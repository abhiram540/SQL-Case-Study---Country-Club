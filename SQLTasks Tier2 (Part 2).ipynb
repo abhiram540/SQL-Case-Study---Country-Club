{
 "cells": [
  {
   "cell_type": "code",
   "execution_count": 1,
   "metadata": {},
   "outputs": [
    {
     "name": "stdout",
     "output_type": "stream",
     "text": [
      "        facility  total_revenue\n",
      "0     Pool Table            270\n",
      "1  Snooker Table            240\n",
      "2   Table Tennis            180\n"
     ]
    }
   ],
   "source": [
    "'''\n",
    "/* Q10: Produce a list of facilities with a total revenue less than 1000.\n",
    "The output of facility name and total revenue, sorted by revenue. Remember\n",
    "that there's a different cost for guests and members! */\n",
    "'''\n",
    "\n",
    "import sqlite3\n",
    "import pandas as pd\n",
    "\n",
    "# Create the connection\n",
    "cnx = sqlite3.connect(r'C:\\Users\\abhiram.muktineni\\Desktop\\DS\\DS Career Track docs\\Unit 8 - SQL & Databases\\8.3 SQL Case Study - Country Club\\SQLFiles Tier 2\\sqlite_db_pythonsqlite.db')\n",
    "\n",
    "# create the dataframe from a query\n",
    "df = pd.read_sql_query(\"SELECT * FROM (SELECT sub.facility, SUM( sub.Cost ) AS total_revenue FROM (SELECT f.name AS facility, CASE WHEN b.memid =0 THEN f.guestcost * b.slots ELSE f.membercost * b.slots END AS Cost FROM Bookings AS b INNER JOIN Facilities AS f ON b.facid = f.facid INNER JOIN Members AS m ON b.memid = m.memid)sub GROUP BY sub.facility)sub2 WHERE sub2.total_revenue <1000\", cnx)\n",
    "\n",
    "print(df)\n"
   ]
  },
  {
   "cell_type": "code",
   "execution_count": 2,
   "metadata": {},
   "outputs": [
    {
     "name": "stdout",
     "output_type": "stream",
     "text": [
      "              surname  firstname recommendedby\n",
      "0               Bader   Florence             9\n",
      "1               Baker       Anne             9\n",
      "2               Baker    Timothy            13\n",
      "3              Boothe        Tim             3\n",
      "4             Butters     Gerald             1\n",
      "5              Coplin       Joan            16\n",
      "6             Crumpet      Erica             2\n",
      "7                Dare      Nancy             4\n",
      "8             Farrell      David              \n",
      "9             Farrell     Jemima              \n",
      "10              GUEST      GUEST              \n",
      "11            Genting    Matthew             5\n",
      "12               Hunt       John            30\n",
      "13              Jones      David             4\n",
      "14              Jones    Douglas            11\n",
      "15           Joplette     Janice             1\n",
      "16          Mackenzie       Anna             1\n",
      "17               Owen    Charles             1\n",
      "18             Pinker      David            13\n",
      "19            Purview  Millicent             2\n",
      "20             Rownam        Tim              \n",
      "21             Rumney  Henrietta            20\n",
      "22             Sarwin  Ramnaresh            15\n",
      "23              Smith     Darren              \n",
      "24              Smith     Darren              \n",
      "25              Smith       Jack             1\n",
      "26              Smith      Tracy              \n",
      "27           Stibbons     Ponder             6\n",
      "28              Tracy     Burton              \n",
      "29         Tupperware   Hyacinth              \n",
      "30  Worthington-Smyth      Henry             2\n"
     ]
    }
   ],
   "source": [
    "'''\n",
    "/* Q11: Produce a report of members and who recommended them in alphabetic surname,firstname order */\n",
    "'''\n",
    "df1 = pd.read_sql_query(\"SELECT surname, firstname, recommendedby FROM Members ORDER BY surname, firstname\", cnx)\n",
    "print(df1)"
   ]
  },
  {
   "cell_type": "code",
   "execution_count": 3,
   "metadata": {},
   "outputs": [
    {
     "name": "stdout",
     "output_type": "stream",
     "text": [
      "          Facility  Usage_hours\n",
      "0  Badminton Court        543.0\n",
      "1   Massage Room 1        442.0\n",
      "2   Massage Room 2         27.0\n",
      "3       Pool Table        428.0\n",
      "4    Snooker Table        430.0\n",
      "5     Squash Court        209.0\n",
      "6     Table Tennis        397.0\n",
      "7   Tennis Court 1        478.5\n",
      "8   Tennis Court 2        441.0\n"
     ]
    },
    {
     "data": {
      "text/plain": [
       "'\\nSELECT f.name, (SUM(b.slots) * 0.5) AS hours FROM Facilities AS f \\nINNER JOIN Bookings as b\\nUSING (facid) GROUP BY f.name\\n'"
      ]
     },
     "execution_count": 3,
     "metadata": {},
     "output_type": "execute_result"
    }
   ],
   "source": [
    "'''\n",
    "Q12: Find the facilities with their usage by member, but not guests\n",
    "'''\n",
    "\n",
    "df2 = pd.read_sql_query(\"SELECT f.name AS Facility, (SUM(b.slots) * 0.5) AS Usage_hours FROM Members AS m LEFT JOIN Bookings AS b ON m.memid = b.memid LEFT JOIN Facilities AS f ON b.facid = f.facid WHERE m.firstname <> 'GUEST' AND m.surname <> 'GUEST' AND Facility <> 'None' GROUP BY Facility\", cnx)\n",
    "print(df2)\n",
    "\n",
    "'''\n",
    "SELECT f.name AS Facility, (SELECT SUM(b.slots) * 0.5) AS Usage_Hrs\n",
    "FROM Facilities as f\n",
    "INNER JOIN Bookings as b\n",
    "USING (facid)\n",
    "INNER JOIN Members AS m\n",
    "USING (memid)\n",
    "ORDER BY Usage_hrs;\n",
    "'''\n",
    "'''\n",
    "SELECT f.name, (SUM(b.slots) * 0.5) AS hours FROM Facilities AS f \n",
    "INNER JOIN Bookings as b\n",
    "USING (facid) GROUP BY f.name\n",
    "'''"
   ]
  },
  {
   "cell_type": "code",
   "execution_count": 7,
   "metadata": {},
   "outputs": [
    {
     "name": "stdout",
     "output_type": "stream",
     "text": [
      "               name MONTH  Usage_Hours\n",
      "0    Tennis Court 1    07        100.5\n",
      "1    Tennis Court 1    08        169.5\n",
      "2    Tennis Court 1    09        208.5\n",
      "3    Tennis Court 2    07         61.5\n",
      "4    Tennis Court 2    08        172.5\n",
      "5    Tennis Court 2    09        207.0\n",
      "6   Badminton Court    07         82.5\n",
      "7   Badminton Court    08        207.0\n",
      "8   Badminton Court    09        253.5\n",
      "9      Table Tennis    07         49.0\n",
      "10     Table Tennis    08        148.0\n",
      "11     Table Tennis    09        200.0\n",
      "12   Massage Room 1    07         83.0\n",
      "13   Massage Room 1    08        158.0\n",
      "14   Massage Room 1    09        201.0\n",
      "15   Massage Room 2    07          4.0\n",
      "16   Massage Room 2    08          9.0\n",
      "17   Massage Room 2    09         14.0\n",
      "18     Squash Court    07         25.0\n",
      "19     Squash Court    08         92.0\n",
      "20     Squash Court    09         92.0\n",
      "21    Snooker Table    07         70.0\n",
      "22    Snooker Table    08        158.0\n",
      "23    Snooker Table    09        202.0\n",
      "24       Pool Table    07         55.0\n",
      "25       Pool Table    08        151.5\n",
      "26       Pool Table    09        221.5\n"
     ]
    }
   ],
   "source": [
    "'''\n",
    "Q13: Find the facilities usage by month, but not guests\n",
    "\n",
    "df3 = pd.read_sql_query(\"SELECT f.name AS name, extract(MONTH FROM b.starttime) AS MONTH, sum( b.slots * 0.5 ) AS Usage_Hours FROM Bookings AS b INNER JOIN Facilities AS f USING (facid) WHERE b.memid <> 0 GROUP BY facid, MONTH ORDER BY facid, MONTH\", cnx)\n",
    "print(df3)\n",
    "'''\n",
    "\n",
    "df3 = pd.read_sql_query(\"SELECT f.name AS name, strftime('%m', b.starttime) AS MONTH, sum( b.slots * 0.5 ) AS Usage_Hours FROM Bookings AS b INNER JOIN Facilities AS f USING (facid) WHERE b.memid <> 0 GROUP BY facid, MONTH ORDER BY facid, MONTH\", cnx)\n",
    "print(df3)"
   ]
  }
 ],
 "metadata": {
  "kernelspec": {
   "display_name": "Python 3",
   "language": "python",
   "name": "python3"
  }
 },
 "nbformat": 4,
 "nbformat_minor": 4
}
