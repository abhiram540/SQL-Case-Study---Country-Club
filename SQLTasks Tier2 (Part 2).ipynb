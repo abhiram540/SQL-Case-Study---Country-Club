{
 "cells": [
  {
   "cell_type": "code",
   "execution_count": 1,
   "metadata": {},
   "outputs": [
    {
     "name": "stdout",
     "output_type": "stream",
     "text": [
      "        facility  total_revenue\n",
      "0     Pool Table            270\n",
      "1  Snooker Table            240\n",
      "2   Table Tennis            180\n"
     ]
    }
   ],
   "source": [
    "'''\n",
    "/* Q10: Produce a list of facilities with a total revenue less than 1000.\n",
    "The output of facility name and total revenue, sorted by revenue. Remember\n",
    "that there's a different cost for guests and members! */\n",
    "'''\n",
    "\n",
    "import sqlite3\n",
    "import pandas as pd\n",
    "\n",
    "# Create the connection\n",
    "cnx = sqlite3.connect(r'C:\\Users\\abhiram.muktineni\\Desktop\\DS\\DS Career Track docs\\Unit 8 - SQL & Databases\\8.3 SQL Case Study - Country Club\\SQLFiles Tier 2\\sqlite_db_pythonsqlite.db')\n",
    "\n",
    "# create the dataframe from a query\n",
    "df = pd.read_sql_query(\"SELECT * FROM (SELECT sub.facility, SUM( sub.Cost ) AS total_revenue FROM (SELECT f.name AS facility, CASE WHEN b.memid =0 THEN f.guestcost * b.slots ELSE f.membercost * b.slots END AS Cost FROM Bookings AS b INNER JOIN Facilities AS f ON b.facid = f.facid INNER JOIN Members AS m ON b.memid = m.memid)sub GROUP BY sub.facility)sub2 WHERE sub2.total_revenue <1000\", cnx)\n",
    "\n",
    "print(df)\n"
   ]
  },
  {
   "cell_type": "code",
   "execution_count": 2,
   "metadata": {},
   "outputs": [
    {
     "name": "stdout",
     "output_type": "stream",
     "text": [
      "              surname  firstname recommendedby\n",
      "0               Bader   Florence             9\n",
      "1               Baker       Anne             9\n",
      "2               Baker    Timothy            13\n",
      "3              Boothe        Tim             3\n",
      "4             Butters     Gerald             1\n",
      "5              Coplin       Joan            16\n",
      "6             Crumpet      Erica             2\n",
      "7                Dare      Nancy             4\n",
      "8             Farrell      David              \n",
      "9             Farrell     Jemima              \n",
      "10              GUEST      GUEST              \n",
      "11            Genting    Matthew             5\n",
      "12               Hunt       John            30\n",
      "13              Jones      David             4\n",
      "14              Jones    Douglas            11\n",
      "15           Joplette     Janice             1\n",
      "16          Mackenzie       Anna             1\n",
      "17               Owen    Charles             1\n",
      "18             Pinker      David            13\n",
      "19            Purview  Millicent             2\n",
      "20             Rownam        Tim              \n",
      "21             Rumney  Henrietta            20\n",
      "22             Sarwin  Ramnaresh            15\n",
      "23              Smith     Darren              \n",
      "24              Smith     Darren              \n",
      "25              Smith       Jack             1\n",
      "26              Smith      Tracy              \n",
      "27           Stibbons     Ponder             6\n",
      "28              Tracy     Burton              \n",
      "29         Tupperware   Hyacinth              \n",
      "30  Worthington-Smyth      Henry             2\n"
     ]
    }
   ],
   "source": [
    "'''\n",
    "/* Q11: Produce a report of members and who recommended them in alphabetic surname,firstname order */\n",
    "'''\n",
    "df1 = pd.read_sql_query(\"SELECT surname, firstname, recommendedby FROM Members ORDER BY surname, firstname\", cnx)\n",
    "print(df1)"
   ]
  },
  {
   "cell_type": "code",
   "execution_count": 6,
   "metadata": {},
   "outputs": [
    {
     "name": "stdout",
     "output_type": "stream",
     "text": [
      "          Facility  Usage_hours\n",
      "0  Badminton Court        543.0\n",
      "1   Massage Room 1        442.0\n",
      "2   Massage Room 2         27.0\n",
      "3       Pool Table        428.0\n",
      "4    Snooker Table        430.0\n",
      "5     Squash Court        209.0\n",
      "6     Table Tennis        397.0\n",
      "7   Tennis Court 1        478.5\n",
      "8   Tennis Court 2        441.0\n"
     ]
    },
    {
     "data": {
      "text/plain": [
       "'\\nSELECT f.name, (SUM(b.slots) * 0.5) AS hours FROM Facilities AS f \\nINNER JOIN Bookings as b\\nUSING (facid) GROUP BY f.name\\n'"
      ]
     },
     "execution_count": 6,
     "metadata": {},
     "output_type": "execute_result"
    }
   ],
   "source": [
    "'''\n",
    "Q12: Find the facilities with their usage by member, but not guests\n",
    "'''\n",
    "\n",
    "df2 = pd.read_sql_query(\"SELECT f.name AS Facility, (SUM(b.slots) * 0.5) AS Usage_hours FROM Members AS m LEFT JOIN Bookings AS b ON m.memid = b.memid LEFT JOIN Facilities AS f ON b.facid = f.facid WHERE m.firstname <> 'GUEST' AND m.surname <> 'GUEST' AND Facility <> 'None' GROUP BY Facility\", cnx)\n",
    "print(df2)\n",
    "\n",
    "'''\n",
    "SELECT f.name AS Facility, (SELECT SUM(b.slots) * 0.5) AS Usage_Hrs\n",
    "FROM Facilities as f\n",
    "INNER JOIN Bookings as b\n",
    "USING (facid)\n",
    "INNER JOIN Members AS m\n",
    "USING (memid)\n",
    "ORDER BY Usage_hrs;\n",
    "'''\n",
    "'''\n",
    "SELECT f.name, (SUM(b.slots) * 0.5) AS hours FROM Facilities AS f \n",
    "INNER JOIN Bookings as b\n",
    "USING (facid) GROUP BY f.name\n",
    "'''"
   ]
  },
  {
   "cell_type": "code",
   "execution_count": 14,
   "metadata": {},
   "outputs": [
    {
     "ename": "DatabaseError",
     "evalue": "Execution failed on sql 'SELECT f.name AS name, extract(MONTH FROM b.starttime) AS MONTH, sum( b.slots * 0.5 ) AS Usage_Hours FROM Bookings AS b, INNER JOIN Facilities AS f USING (facid) WHERE b.memid <> 0 GROUP BY facid, MONTH ORDER BY facid, MONTH': near \"FROM\": syntax error",
     "output_type": "error",
     "traceback": [
      "\u001b[1;31m---------------------------------------------------------------------------\u001b[0m",
      "\u001b[1;31mOperationalError\u001b[0m                          Traceback (most recent call last)",
      "\u001b[1;32m~\\anaconda3\\lib\\site-packages\\pandas\\io\\sql.py\u001b[0m in \u001b[0;36mexecute\u001b[1;34m(self, *args, **kwargs)\u001b[0m\n\u001b[0;32m   1696\u001b[0m         \u001b[1;32mtry\u001b[0m\u001b[1;33m:\u001b[0m\u001b[1;33m\u001b[0m\u001b[1;33m\u001b[0m\u001b[0m\n\u001b[1;32m-> 1697\u001b[1;33m             \u001b[0mcur\u001b[0m\u001b[1;33m.\u001b[0m\u001b[0mexecute\u001b[0m\u001b[1;33m(\u001b[0m\u001b[1;33m*\u001b[0m\u001b[0margs\u001b[0m\u001b[1;33m,\u001b[0m \u001b[1;33m**\u001b[0m\u001b[0mkwargs\u001b[0m\u001b[1;33m)\u001b[0m\u001b[1;33m\u001b[0m\u001b[1;33m\u001b[0m\u001b[0m\n\u001b[0m\u001b[0;32m   1698\u001b[0m             \u001b[1;32mreturn\u001b[0m \u001b[0mcur\u001b[0m\u001b[1;33m\u001b[0m\u001b[1;33m\u001b[0m\u001b[0m\n",
      "\u001b[1;31mOperationalError\u001b[0m: near \"FROM\": syntax error",
      "\nThe above exception was the direct cause of the following exception:\n",
      "\u001b[1;31mDatabaseError\u001b[0m                             Traceback (most recent call last)",
      "\u001b[1;32m<ipython-input-14-d79ce1ef868b>\u001b[0m in \u001b[0;36m<module>\u001b[1;34m\u001b[0m\n\u001b[0;32m      2\u001b[0m \u001b[0mQ13\u001b[0m\u001b[1;33m:\u001b[0m \u001b[0mFind\u001b[0m \u001b[0mthe\u001b[0m \u001b[0mfacilities\u001b[0m \u001b[0musage\u001b[0m \u001b[0mby\u001b[0m \u001b[0mmonth\u001b[0m\u001b[1;33m,\u001b[0m \u001b[0mbut\u001b[0m \u001b[1;32mnot\u001b[0m \u001b[0mguests\u001b[0m\u001b[1;33m\u001b[0m\u001b[1;33m\u001b[0m\u001b[0m\n\u001b[0;32m      3\u001b[0m '''\n\u001b[1;32m----> 4\u001b[1;33m \u001b[0mdf3\u001b[0m \u001b[1;33m=\u001b[0m \u001b[0mpd\u001b[0m\u001b[1;33m.\u001b[0m\u001b[0mread_sql_query\u001b[0m\u001b[1;33m(\u001b[0m\u001b[1;34m\"SELECT f.name AS name, extract(MONTH FROM b.starttime) AS MONTH, sum( b.slots * 0.5 ) AS Usage_Hours FROM Bookings AS b, INNER JOIN Facilities AS f USING (facid) WHERE b.memid <> 0 GROUP BY facid, MONTH ORDER BY facid, MONTH\"\u001b[0m\u001b[1;33m,\u001b[0m \u001b[0mcnx\u001b[0m\u001b[1;33m)\u001b[0m\u001b[1;33m\u001b[0m\u001b[1;33m\u001b[0m\u001b[0m\n\u001b[0m\u001b[0;32m      5\u001b[0m \u001b[0mprint\u001b[0m\u001b[1;33m(\u001b[0m\u001b[0mdf3\u001b[0m\u001b[1;33m)\u001b[0m\u001b[1;33m\u001b[0m\u001b[1;33m\u001b[0m\u001b[0m\n\u001b[0;32m      6\u001b[0m \u001b[1;33m\u001b[0m\u001b[0m\n",
      "\u001b[1;32m~\\anaconda3\\lib\\site-packages\\pandas\\io\\sql.py\u001b[0m in \u001b[0;36mread_sql_query\u001b[1;34m(sql, con, index_col, coerce_float, params, parse_dates, chunksize)\u001b[0m\n\u001b[0;32m    381\u001b[0m         \u001b[0mcoerce_float\u001b[0m\u001b[1;33m=\u001b[0m\u001b[0mcoerce_float\u001b[0m\u001b[1;33m,\u001b[0m\u001b[1;33m\u001b[0m\u001b[1;33m\u001b[0m\u001b[0m\n\u001b[0;32m    382\u001b[0m         \u001b[0mparse_dates\u001b[0m\u001b[1;33m=\u001b[0m\u001b[0mparse_dates\u001b[0m\u001b[1;33m,\u001b[0m\u001b[1;33m\u001b[0m\u001b[1;33m\u001b[0m\u001b[0m\n\u001b[1;32m--> 383\u001b[1;33m         \u001b[0mchunksize\u001b[0m\u001b[1;33m=\u001b[0m\u001b[0mchunksize\u001b[0m\u001b[1;33m,\u001b[0m\u001b[1;33m\u001b[0m\u001b[1;33m\u001b[0m\u001b[0m\n\u001b[0m\u001b[0;32m    384\u001b[0m     )\n\u001b[0;32m    385\u001b[0m \u001b[1;33m\u001b[0m\u001b[0m\n",
      "\u001b[1;32m~\\anaconda3\\lib\\site-packages\\pandas\\io\\sql.py\u001b[0m in \u001b[0;36mread_query\u001b[1;34m(self, sql, index_col, coerce_float, params, parse_dates, chunksize)\u001b[0m\n\u001b[0;32m   1741\u001b[0m \u001b[1;33m\u001b[0m\u001b[0m\n\u001b[0;32m   1742\u001b[0m         \u001b[0margs\u001b[0m \u001b[1;33m=\u001b[0m \u001b[0m_convert_params\u001b[0m\u001b[1;33m(\u001b[0m\u001b[0msql\u001b[0m\u001b[1;33m,\u001b[0m \u001b[0mparams\u001b[0m\u001b[1;33m)\u001b[0m\u001b[1;33m\u001b[0m\u001b[1;33m\u001b[0m\u001b[0m\n\u001b[1;32m-> 1743\u001b[1;33m         \u001b[0mcursor\u001b[0m \u001b[1;33m=\u001b[0m \u001b[0mself\u001b[0m\u001b[1;33m.\u001b[0m\u001b[0mexecute\u001b[0m\u001b[1;33m(\u001b[0m\u001b[1;33m*\u001b[0m\u001b[0margs\u001b[0m\u001b[1;33m)\u001b[0m\u001b[1;33m\u001b[0m\u001b[1;33m\u001b[0m\u001b[0m\n\u001b[0m\u001b[0;32m   1744\u001b[0m         \u001b[0mcolumns\u001b[0m \u001b[1;33m=\u001b[0m \u001b[1;33m[\u001b[0m\u001b[0mcol_desc\u001b[0m\u001b[1;33m[\u001b[0m\u001b[1;36m0\u001b[0m\u001b[1;33m]\u001b[0m \u001b[1;32mfor\u001b[0m \u001b[0mcol_desc\u001b[0m \u001b[1;32min\u001b[0m \u001b[0mcursor\u001b[0m\u001b[1;33m.\u001b[0m\u001b[0mdescription\u001b[0m\u001b[1;33m]\u001b[0m\u001b[1;33m\u001b[0m\u001b[1;33m\u001b[0m\u001b[0m\n\u001b[0;32m   1745\u001b[0m \u001b[1;33m\u001b[0m\u001b[0m\n",
      "\u001b[1;32m~\\anaconda3\\lib\\site-packages\\pandas\\io\\sql.py\u001b[0m in \u001b[0;36mexecute\u001b[1;34m(self, *args, **kwargs)\u001b[0m\n\u001b[0;32m   1707\u001b[0m \u001b[1;33m\u001b[0m\u001b[0m\n\u001b[0;32m   1708\u001b[0m             \u001b[0mex\u001b[0m \u001b[1;33m=\u001b[0m \u001b[0mDatabaseError\u001b[0m\u001b[1;33m(\u001b[0m\u001b[1;34mf\"Execution failed on sql '{args[0]}': {exc}\"\u001b[0m\u001b[1;33m)\u001b[0m\u001b[1;33m\u001b[0m\u001b[1;33m\u001b[0m\u001b[0m\n\u001b[1;32m-> 1709\u001b[1;33m             \u001b[1;32mraise\u001b[0m \u001b[0mex\u001b[0m \u001b[1;32mfrom\u001b[0m \u001b[0mexc\u001b[0m\u001b[1;33m\u001b[0m\u001b[1;33m\u001b[0m\u001b[0m\n\u001b[0m\u001b[0;32m   1710\u001b[0m \u001b[1;33m\u001b[0m\u001b[0m\n\u001b[0;32m   1711\u001b[0m     \u001b[1;33m@\u001b[0m\u001b[0mstaticmethod\u001b[0m\u001b[1;33m\u001b[0m\u001b[1;33m\u001b[0m\u001b[0m\n",
      "\u001b[1;31mDatabaseError\u001b[0m: Execution failed on sql 'SELECT f.name AS name, extract(MONTH FROM b.starttime) AS MONTH, sum( b.slots * 0.5 ) AS Usage_Hours FROM Bookings AS b, INNER JOIN Facilities AS f USING (facid) WHERE b.memid <> 0 GROUP BY facid, MONTH ORDER BY facid, MONTH': near \"FROM\": syntax error"
     ]
    }
   ],
   "source": [
    "'''\n",
    "Q13: Find the facilities usage by month, but not guests\n",
    "'''\n",
    "df3 = pd.read_sql_query(\"SELECT f.name AS name, extract(MONTH FROM b.starttime) AS MONTH, sum( b.slots * 0.5 ) AS Usage_Hours FROM Bookings AS b INNER JOIN Facilities AS f USING (facid) WHERE b.memid <> 0 GROUP BY facid, MONTH ORDER BY facid, MONTH\", cnx)\n",
    "print(df3)\n",
    "\n"
   ]
  }
 ],
 "metadata": {
  "kernelspec": {
   "display_name": "Python 3",
   "language": "python",
   "name": "python3"
  },
  "language_info": {
   "codemirror_mode": {
    "name": "ipython",
    "version": 3
   },
   "file_extension": ".py",
   "mimetype": "text/x-python",
   "name": "python",
   "nbconvert_exporter": "python",
   "pygments_lexer": "ipython3",
   "version": "3.7.6"
  }
 },
 "nbformat": 4,
 "nbformat_minor": 4
}
